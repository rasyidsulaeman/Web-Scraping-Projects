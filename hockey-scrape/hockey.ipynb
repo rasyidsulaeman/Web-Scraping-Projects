{
 "cells": [
  {
   "cell_type": "code",
   "execution_count": 1,
   "metadata": {},
   "outputs": [
    {
     "name": "stderr",
     "output_type": "stream",
     "text": [
      "/var/folders/hm/4gy529yx1ts3knwwpl0wm7bm0000gn/T/ipykernel_3162/4244489588.py:3: DeprecationWarning: \n",
      "Pyarrow will become a required dependency of pandas in the next major release of pandas (pandas 3.0),\n",
      "(to allow more performant data types, such as the Arrow string type, and better interoperability with other libraries)\n",
      "but was not found to be installed on your system.\n",
      "If this would cause problems for you,\n",
      "please provide us feedback at https://github.com/pandas-dev/pandas/issues/54466\n",
      "        \n",
      "  import pandas as pd\n"
     ]
    }
   ],
   "source": [
    "from bs4 import BeautifulSoup\n",
    "import requests\n",
    "import pandas as pd "
   ]
  },
  {
   "cell_type": "code",
   "execution_count": 2,
   "metadata": {},
   "outputs": [],
   "source": [
    "def get_soup(number):\n",
    "    url = f'https://www.scrapethissite.com/pages/forms/?page_num={number}&per_page=100'\n",
    "\n",
    "    page = requests.get(url)\n",
    "\n",
    "    soup = BeautifulSoup(page.text, 'html.parser')\n",
    "\n",
    "    return soup "
   ]
  },
  {
   "cell_type": "code",
   "execution_count": 3,
   "metadata": {},
   "outputs": [],
   "source": [
    "def get_header(soup):\n",
    "    table_header = soup.find_all('tr')\n",
    "\n",
    "    header = table_header[0].find_all('th')\n",
    "    table = []\n",
    "    for i in range(len(header)):\n",
    "        table.append(header[i].text.strip())\n",
    "    df = pd.DataFrame(columns = table)\n",
    "\n",
    "    return df "
   ]
  },
  {
   "cell_type": "code",
   "execution_count": 4,
   "metadata": {},
   "outputs": [],
   "source": [
    "def insert_row(soup, df):\n",
    "    table_header = soup.find_all('tr')\n",
    "    for row in table_header[1:]:\n",
    "        row_data = row.find_all('td')\n",
    "        individual_data_row = [data.text.strip() for data in row_data]\n",
    "        \n",
    "        length = len(df)\n",
    "        df.loc[length] = individual_data_row\n",
    "    return df"
   ]
  },
  {
   "cell_type": "code",
   "execution_count": 8,
   "metadata": {},
   "outputs": [],
   "source": [
    "#The page number ranges from 1 to 6\n",
    "number = [1,2,3,4,5,6]\n",
    "for num in number:\n",
    "    soup = get_soup(num)\n",
    "    if num == 1:\n",
    "        df = get_header(soup)\n",
    "    df = insert_row(soup,df)"
   ]
  },
  {
   "cell_type": "code",
   "execution_count": 10,
   "metadata": {},
   "outputs": [],
   "source": [
    "path = '/Users/macbookair/Documents/Python/'\n",
    "file_name = 'hockey_dataset.csv'\n",
    "df.to_csv(path+file_name)"
   ]
  },
  {
   "cell_type": "code",
   "execution_count": null,
   "metadata": {},
   "outputs": [],
   "source": []
  }
 ],
 "metadata": {
  "kernelspec": {
   "display_name": "Python 3",
   "language": "python",
   "name": "python3"
  },
  "language_info": {
   "codemirror_mode": {
    "name": "ipython",
    "version": 3
   },
   "file_extension": ".py",
   "mimetype": "text/x-python",
   "name": "python",
   "nbconvert_exporter": "python",
   "pygments_lexer": "ipython3",
   "version": "3.11.8"
  }
 },
 "nbformat": 4,
 "nbformat_minor": 2
}
